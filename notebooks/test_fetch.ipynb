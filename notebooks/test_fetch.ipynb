{
 "cells": [
  {
   "cell_type": "code",
   "execution_count": 1,
   "metadata": {},
   "outputs": [],
   "source": [
    "import sys\n",
    "import os\n",
    "\n",
    "# Go up one level from notebooks/ to project root\n",
    "sys.path.append(os.path.abspath(\"..\"))\n",
    "\n",
    "from utils.data_fetcher import fetch_stock_data\n"
   ]
  },
  {
   "cell_type": "code",
   "execution_count": 2,
   "metadata": {},
   "outputs": [
    {
     "name": "stdout",
     "output_type": "stream",
     "text": [
      "Downloading TCS.NS from 2018-01-01 to 2025-03-28...\n",
      "TCS.NS shape: (1788, 5)\n",
      "Downloading INFY.NS from 2018-01-01 to 2025-03-28...\n",
      "INFY.NS shape: (1788, 5)\n",
      "Downloading ICICIBANK.NS from 2018-01-01 to 2025-03-28...\n",
      "ICICIBANK.NS shape: (1788, 5)\n",
      "Downloading RELIANCE.NS from 2018-01-01 to 2025-03-28...\n",
      "RELIANCE.NS shape: (1788, 5)\n",
      "Downloading ^NSEI from 2018-01-01 to 2025-03-28...\n",
      "^NSEI shape: (1783, 5)\n"
     ]
    }
   ],
   "source": [
    "from utils.data_fetcher import fetch_stock_data\n",
    "\n",
    "symbols = [\"TCS.NS\", \"INFY.NS\", \"ICICIBANK.NS\", \"RELIANCE.NS\", \"^NSEI\"]\n",
    "\n",
    "for symbol in symbols:\n",
    "    df = fetch_stock_data(symbol)\n",
    "    print(f\"{symbol} shape: {df.shape}\")\n"
   ]
  },
  {
   "cell_type": "code",
   "execution_count": 3,
   "metadata": {},
   "outputs": [
    {
     "name": "stdout",
     "output_type": "stream",
     "text": [
      "Downloading TCS.NS from 2018-01-01 to 2025-03-28...\n",
      "Price             Close         High          Low         Open   Volume\n",
      "Date                                                                   \n",
      "2018-01-01  1154.967407  1176.446217  1150.339812  1170.989197  1351760\n",
      "2018-01-02  1148.681152  1165.445186  1143.878974  1161.254151  1920290\n",
      "2018-01-03  1151.933350  1165.183038  1148.680987  1149.030257  1257120\n",
      "2018-01-04  1159.987305  1162.126413  1152.522062  1156.887676   913082\n",
      "2018-01-05  1174.000977  1178.497581  1156.887790  1156.887790  1153706\n",
      "(1788,)\n",
      "<class 'pandas.core.series.Series'>\n"
     ]
    }
   ],
   "source": [
    "df = fetch_stock_data(\"TCS.NS\")\n",
    "print(df.head())\n",
    "print(df[\"Close\"].shape)\n",
    "print(type(df[\"Close\"]))\n"
   ]
  },
  {
   "cell_type": "code",
   "execution_count": 4,
   "metadata": {},
   "outputs": [
    {
     "name": "stdout",
     "output_type": "stream",
     "text": [
      "Downloading TCS.NS from 2018-01-01 to 2025-03-28...\n",
      "<class 'pandas.core.series.Series'>\n",
      "(1788,)\n",
      "Price             Close     High          Low         Open   Volume  \\\n",
      "Date                                                                  \n",
      "2025-03-21  3578.100098  3616.25  3465.000000  3475.000000  4161925   \n",
      "2025-03-24  3628.949951  3649.75  3566.600098  3600.000000  1834751   \n",
      "2025-03-25  3657.750000  3710.00  3638.000000  3645.000000  3135390   \n",
      "2025-03-26  3635.800049  3680.50  3625.850098  3647.750000  1734499   \n",
      "2025-03-27  3651.199951  3663.00  3610.500000  3614.850098  2528474   \n",
      "\n",
      "Price             rsi       macd  bollinger_h  bollinger_l      stoch  \\\n",
      "Date                                                                    \n",
      "2025-03-21  39.553981  16.903192  3750.155887  3406.569137  71.094051   \n",
      "2025-03-24  46.304572  23.580865  3718.200875  3423.479154  88.876979   \n",
      "2025-03-25  49.728939  29.340066  3681.912185  3446.942844  78.867543   \n",
      "2025-03-26  47.255396  30.916061  3673.494914  3451.380111  69.989909   \n",
      "2025-03-27  49.165843  32.100604  3677.555067  3449.484947  76.218383   \n",
      "\n",
      "Price             adx  \n",
      "Date                   \n",
      "2025-03-21  43.422821  \n",
      "2025-03-24  42.051637  \n",
      "2025-03-25  39.665068  \n",
      "2025-03-26  37.622066  \n",
      "2025-03-27  35.946273  \n"
     ]
    }
   ],
   "source": [
    "from utils.indicators import add_technical_indicators\n",
    "\n",
    "# Fetch and enrich for one stock\n",
    "df = fetch_stock_data(\"TCS.NS\")\n",
    "\n",
    "print(type(df[\"Close\"]))\n",
    "print(df[\"Close\"].shape)\n",
    "\n",
    "df_ind = add_technical_indicators(df)\n",
    "\n",
    "print(df_ind.tail())\n"
   ]
  },
  {
   "cell_type": "code",
   "execution_count": 5,
   "metadata": {},
   "outputs": [
    {
     "name": "stdout",
     "output_type": "stream",
     "text": [
      "X shape: (1724, 30, 10)\n",
      "y shape: (1724,)\n"
     ]
    }
   ],
   "source": [
    "from utils.windowizer import create_sequences\n",
    "\n",
    "X, y = create_sequences(df_ind, window_size=30)\n",
    "\n",
    "print(\"X shape:\", X.shape)  # (samples, 30, features)\n",
    "print(\"y shape:\", y.shape)  # (samples,)\n"
   ]
  },
  {
   "cell_type": "code",
   "execution_count": 6,
   "metadata": {},
   "outputs": [
    {
     "data": {
      "text/html": [
       "<div>\n",
       "<style scoped>\n",
       "    .dataframe tbody tr th:only-of-type {\n",
       "        vertical-align: middle;\n",
       "    }\n",
       "\n",
       "    .dataframe tbody tr th {\n",
       "        vertical-align: top;\n",
       "    }\n",
       "\n",
       "    .dataframe thead th {\n",
       "        text-align: right;\n",
       "    }\n",
       "</style>\n",
       "<table border=\"1\" class=\"dataframe\">\n",
       "  <thead>\n",
       "    <tr style=\"text-align: right;\">\n",
       "      <th>Price</th>\n",
       "      <th>Close</th>\n",
       "      <th>High</th>\n",
       "      <th>Low</th>\n",
       "      <th>Open</th>\n",
       "      <th>Volume</th>\n",
       "      <th>rsi</th>\n",
       "      <th>macd</th>\n",
       "      <th>bollinger_h</th>\n",
       "      <th>bollinger_l</th>\n",
       "      <th>stoch</th>\n",
       "      <th>adx</th>\n",
       "    </tr>\n",
       "    <tr>\n",
       "      <th>Date</th>\n",
       "      <th></th>\n",
       "      <th></th>\n",
       "      <th></th>\n",
       "      <th></th>\n",
       "      <th></th>\n",
       "      <th></th>\n",
       "      <th></th>\n",
       "      <th></th>\n",
       "      <th></th>\n",
       "      <th></th>\n",
       "      <th></th>\n",
       "    </tr>\n",
       "  </thead>\n",
       "  <tbody>\n",
       "    <tr>\n",
       "      <th>2018-02-19</th>\n",
       "      <td>0.014403</td>\n",
       "      <td>0.016838</td>\n",
       "      <td>0.015478</td>\n",
       "      <td>0.019154</td>\n",
       "      <td>0.017807</td>\n",
       "      <td>0.444764</td>\n",
       "      <td>0.362460</td>\n",
       "      <td>0.033025</td>\n",
       "      <td>0.023378</td>\n",
       "      <td>0.093057</td>\n",
       "      <td>0.733679</td>\n",
       "    </tr>\n",
       "    <tr>\n",
       "      <th>2018-02-20</th>\n",
       "      <td>0.017261</td>\n",
       "      <td>0.021084</td>\n",
       "      <td>0.019931</td>\n",
       "      <td>0.016876</td>\n",
       "      <td>0.021450</td>\n",
       "      <td>0.480893</td>\n",
       "      <td>0.380875</td>\n",
       "      <td>0.033073</td>\n",
       "      <td>0.023225</td>\n",
       "      <td>0.170306</td>\n",
       "      <td>0.685051</td>\n",
       "    </tr>\n",
       "    <tr>\n",
       "      <th>2018-02-21</th>\n",
       "      <td>0.030442</td>\n",
       "      <td>0.031456</td>\n",
       "      <td>0.024309</td>\n",
       "      <td>0.023038</td>\n",
       "      <td>0.035078</td>\n",
       "      <td>0.618631</td>\n",
       "      <td>0.434187</td>\n",
       "      <td>0.032203</td>\n",
       "      <td>0.023108</td>\n",
       "      <td>0.504819</td>\n",
       "      <td>0.658849</td>\n",
       "    </tr>\n",
       "    <tr>\n",
       "      <th>2018-02-22</th>\n",
       "      <td>0.031509</td>\n",
       "      <td>0.033650</td>\n",
       "      <td>0.032814</td>\n",
       "      <td>0.033485</td>\n",
       "      <td>0.039322</td>\n",
       "      <td>0.628157</td>\n",
       "      <td>0.473905</td>\n",
       "      <td>0.031592</td>\n",
       "      <td>0.023029</td>\n",
       "      <td>0.531907</td>\n",
       "      <td>0.638112</td>\n",
       "    </tr>\n",
       "    <tr>\n",
       "      <th>2018-02-23</th>\n",
       "      <td>0.034968</td>\n",
       "      <td>0.034987</td>\n",
       "      <td>0.028674</td>\n",
       "      <td>0.033217</td>\n",
       "      <td>0.038181</td>\n",
       "      <td>0.659061</td>\n",
       "      <td>0.509670</td>\n",
       "      <td>0.029665</td>\n",
       "      <td>0.023665</td>\n",
       "      <td>0.623951</td>\n",
       "      <td>0.607693</td>\n",
       "    </tr>\n",
       "  </tbody>\n",
       "</table>\n",
       "</div>"
      ],
      "text/plain": [
       "Price          Close      High       Low      Open    Volume       rsi  \\\n",
       "Date                                                                     \n",
       "2018-02-19  0.014403  0.016838  0.015478  0.019154  0.017807  0.444764   \n",
       "2018-02-20  0.017261  0.021084  0.019931  0.016876  0.021450  0.480893   \n",
       "2018-02-21  0.030442  0.031456  0.024309  0.023038  0.035078  0.618631   \n",
       "2018-02-22  0.031509  0.033650  0.032814  0.033485  0.039322  0.628157   \n",
       "2018-02-23  0.034968  0.034987  0.028674  0.033217  0.038181  0.659061   \n",
       "\n",
       "Price           macd  bollinger_h  bollinger_l     stoch       adx  \n",
       "Date                                                                \n",
       "2018-02-19  0.362460     0.033025     0.023378  0.093057  0.733679  \n",
       "2018-02-20  0.380875     0.033073     0.023225  0.170306  0.685051  \n",
       "2018-02-21  0.434187     0.032203     0.023108  0.504819  0.658849  \n",
       "2018-02-22  0.473905     0.031592     0.023029  0.531907  0.638112  \n",
       "2018-02-23  0.509670     0.029665     0.023665  0.623951  0.607693  "
      ]
     },
     "execution_count": 6,
     "metadata": {},
     "output_type": "execute_result"
    }
   ],
   "source": [
    "from utils.scaler import scale_dataframe\n",
    "\n",
    "df_scaled, scaler = scale_dataframe(df_ind)\n",
    "df_scaled.head()\n"
   ]
  },
  {
   "cell_type": "code",
   "execution_count": 8,
   "metadata": {},
   "outputs": [
    {
     "name": "stdout",
     "output_type": "stream",
     "text": [
      "Downloading TCS.NS from 2018-01-01 to 2025-03-28...\n",
      "Epoch 1/100\n"
     ]
    },
    {
     "name": "stderr",
     "output_type": "stream",
     "text": [
      "/Users/rakshitshah/Desktop/Portfolio_Projects/smartstock-ml/venv/lib/python3.10/site-packages/keras/src/layers/rnn/rnn.py:200: UserWarning: Do not pass an `input_shape`/`input_dim` argument to a layer. When using Sequential models, prefer using an `Input(shape)` object as the first layer in the model instead.\n",
      "  super().__init__(**kwargs)\n"
     ]
    },
    {
     "name": "stdout",
     "output_type": "stream",
     "text": [
      "\u001b[1m44/44\u001b[0m \u001b[32m━━━━━━━━━━━━━━━━━━━━\u001b[0m\u001b[37m\u001b[0m \u001b[1m1s\u001b[0m 12ms/step - loss: 0.0808 - val_loss: 0.0063\n",
      "Epoch 2/100\n",
      "\u001b[1m44/44\u001b[0m \u001b[32m━━━━━━━━━━━━━━━━━━━━\u001b[0m\u001b[37m\u001b[0m \u001b[1m0s\u001b[0m 9ms/step - loss: 0.0095 - val_loss: 0.0033\n",
      "Epoch 3/100\n",
      "\u001b[1m44/44\u001b[0m \u001b[32m━━━━━━━━━━━━━━━━━━━━\u001b[0m\u001b[37m\u001b[0m \u001b[1m0s\u001b[0m 10ms/step - loss: 0.0059 - val_loss: 0.0035\n",
      "Epoch 4/100\n",
      "\u001b[1m44/44\u001b[0m \u001b[32m━━━━━━━━━━━━━━━━━━━━\u001b[0m\u001b[37m\u001b[0m \u001b[1m0s\u001b[0m 10ms/step - loss: 0.0052 - val_loss: 9.5803e-04\n",
      "Epoch 5/100\n",
      "\u001b[1m44/44\u001b[0m \u001b[32m━━━━━━━━━━━━━━━━━━━━\u001b[0m\u001b[37m\u001b[0m \u001b[1m0s\u001b[0m 10ms/step - loss: 0.0046 - val_loss: 0.0021\n",
      "Epoch 6/100\n",
      "\u001b[1m44/44\u001b[0m \u001b[32m━━━━━━━━━━━━━━━━━━━━\u001b[0m\u001b[37m\u001b[0m \u001b[1m0s\u001b[0m 10ms/step - loss: 0.0037 - val_loss: 0.0025\n",
      "Epoch 7/100\n",
      "\u001b[1m44/44\u001b[0m \u001b[32m━━━━━━━━━━━━━━━━━━━━\u001b[0m\u001b[37m\u001b[0m \u001b[1m0s\u001b[0m 10ms/step - loss: 0.0040 - val_loss: 0.0016\n",
      "Epoch 8/100\n",
      "\u001b[1m44/44\u001b[0m \u001b[32m━━━━━━━━━━━━━━━━━━━━\u001b[0m\u001b[37m\u001b[0m \u001b[1m0s\u001b[0m 10ms/step - loss: 0.0036 - val_loss: 9.0667e-04\n",
      "Epoch 9/100\n",
      "\u001b[1m44/44\u001b[0m \u001b[32m━━━━━━━━━━━━━━━━━━━━\u001b[0m\u001b[37m\u001b[0m \u001b[1m0s\u001b[0m 10ms/step - loss: 0.0033 - val_loss: 8.8688e-04\n",
      "Epoch 10/100\n",
      "\u001b[1m44/44\u001b[0m \u001b[32m━━━━━━━━━━━━━━━━━━━━\u001b[0m\u001b[37m\u001b[0m \u001b[1m0s\u001b[0m 10ms/step - loss: 0.0034 - val_loss: 8.8671e-04\n",
      "Epoch 11/100\n",
      "\u001b[1m44/44\u001b[0m \u001b[32m━━━━━━━━━━━━━━━━━━━━\u001b[0m\u001b[37m\u001b[0m \u001b[1m1s\u001b[0m 12ms/step - loss: 0.0034 - val_loss: 9.5285e-04\n",
      "Epoch 12/100\n",
      "\u001b[1m44/44\u001b[0m \u001b[32m━━━━━━━━━━━━━━━━━━━━\u001b[0m\u001b[37m\u001b[0m \u001b[1m1s\u001b[0m 14ms/step - loss: 0.0028 - val_loss: 0.0012\n",
      "Epoch 13/100\n",
      "\u001b[1m44/44\u001b[0m \u001b[32m━━━━━━━━━━━━━━━━━━━━\u001b[0m\u001b[37m\u001b[0m \u001b[1m1s\u001b[0m 12ms/step - loss: 0.0024 - val_loss: 0.0018\n",
      "Epoch 14/100\n",
      "\u001b[1m44/44\u001b[0m \u001b[32m━━━━━━━━━━━━━━━━━━━━\u001b[0m\u001b[37m\u001b[0m \u001b[1m1s\u001b[0m 12ms/step - loss: 0.0029 - val_loss: 8.6144e-04\n",
      "Epoch 15/100\n",
      "\u001b[1m44/44\u001b[0m \u001b[32m━━━━━━━━━━━━━━━━━━━━\u001b[0m\u001b[37m\u001b[0m \u001b[1m1s\u001b[0m 12ms/step - loss: 0.0028 - val_loss: 8.3691e-04\n",
      "Epoch 16/100\n",
      "\u001b[1m44/44\u001b[0m \u001b[32m━━━━━━━━━━━━━━━━━━━━\u001b[0m\u001b[37m\u001b[0m \u001b[1m0s\u001b[0m 10ms/step - loss: 0.0028 - val_loss: 0.0017\n",
      "Epoch 17/100\n",
      "\u001b[1m44/44\u001b[0m \u001b[32m━━━━━━━━━━━━━━━━━━━━\u001b[0m\u001b[37m\u001b[0m \u001b[1m0s\u001b[0m 10ms/step - loss: 0.0028 - val_loss: 8.5960e-04\n",
      "Epoch 18/100\n",
      "\u001b[1m44/44\u001b[0m \u001b[32m━━━━━━━━━━━━━━━━━━━━\u001b[0m\u001b[37m\u001b[0m \u001b[1m0s\u001b[0m 10ms/step - loss: 0.0027 - val_loss: 0.0010\n",
      "Epoch 19/100\n",
      "\u001b[1m44/44\u001b[0m \u001b[32m━━━━━━━━━━━━━━━━━━━━\u001b[0m\u001b[37m\u001b[0m \u001b[1m0s\u001b[0m 10ms/step - loss: 0.0026 - val_loss: 0.0014\n",
      "Epoch 20/100\n",
      "\u001b[1m44/44\u001b[0m \u001b[32m━━━━━━━━━━━━━━━━━━━━\u001b[0m\u001b[37m\u001b[0m \u001b[1m0s\u001b[0m 10ms/step - loss: 0.0024 - val_loss: 0.0014\n",
      "Epoch 21/100\n",
      "\u001b[1m44/44\u001b[0m \u001b[32m━━━━━━━━━━━━━━━━━━━━\u001b[0m\u001b[37m\u001b[0m \u001b[1m0s\u001b[0m 10ms/step - loss: 0.0024 - val_loss: 0.0012\n",
      "Epoch 22/100\n",
      "\u001b[1m44/44\u001b[0m \u001b[32m━━━━━━━━━━━━━━━━━━━━\u001b[0m\u001b[37m\u001b[0m \u001b[1m0s\u001b[0m 10ms/step - loss: 0.0021 - val_loss: 0.0017\n",
      "Epoch 23/100\n",
      "\u001b[1m44/44\u001b[0m \u001b[32m━━━━━━━━━━━━━━━━━━━━\u001b[0m\u001b[37m\u001b[0m \u001b[1m0s\u001b[0m 10ms/step - loss: 0.0021 - val_loss: 0.0028\n",
      "Epoch 24/100\n",
      "\u001b[1m44/44\u001b[0m \u001b[32m━━━━━━━━━━━━━━━━━━━━\u001b[0m\u001b[37m\u001b[0m \u001b[1m0s\u001b[0m 10ms/step - loss: 0.0022 - val_loss: 0.0012\n",
      "Epoch 25/100\n",
      "\u001b[1m44/44\u001b[0m \u001b[32m━━━━━━━━━━━━━━━━━━━━\u001b[0m\u001b[37m\u001b[0m \u001b[1m0s\u001b[0m 10ms/step - loss: 0.0023 - val_loss: 0.0035\n"
     ]
    }
   ],
   "source": [
    "from models.gru_trainer import train_gru_model\n",
    "from utils.windowizer import create_sequences\n",
    "from utils.scaler import scale_dataframe\n",
    "from utils.indicators import add_technical_indicators\n",
    "from utils.data_fetcher import fetch_stock_data\n",
    "\n",
    "# Fetch, process, scale\n",
    "df = fetch_stock_data(\"TCS.NS\")\n",
    "df = add_technical_indicators(df)\n",
    "df_scaled, scaler = scale_dataframe(df)\n",
    "\n",
    "# Create windowed sequences\n",
    "X, y = create_sequences(df_scaled, window_size=30)\n",
    "\n",
    "# Train model\n",
    "model, history, (X_train, X_val, y_train, y_val) = train_gru_model(X, y)\n"
   ]
  },
  {
   "cell_type": "code",
   "execution_count": null,
   "metadata": {},
   "outputs": [],
   "source": [
    "from tensorflow.keras.models import load_model\n",
    "\n",
    "model = load_model(\"models/gru_model.keras\")\n"
   ]
  },
  {
   "cell_type": "code",
   "execution_count": 9,
   "metadata": {},
   "outputs": [
    {
     "name": "stdout",
     "output_type": "stream",
     "text": [
      "X_pred shape: (1, 30, 10)\n"
     ]
    }
   ],
   "source": [
    "from utils.windowizer import create_sequences\n",
    "window_size = 30\n",
    "recent_df = df_scaled.tail(window_size + 2)  # try 32 rows just to be safe\n",
    "\n",
    "X_pred, _ = create_sequences(recent_df, window_size=window_size)\n",
    "print(\"X_pred shape:\", X_pred.shape)\n",
    "\n"
   ]
  },
  {
   "cell_type": "code",
   "execution_count": 10,
   "metadata": {},
   "outputs": [
    {
     "name": "stdout",
     "output_type": "stream",
     "text": [
      "\u001b[1m1/1\u001b[0m \u001b[32m━━━━━━━━━━━━━━━━━━━━\u001b[0m\u001b[37m\u001b[0m \u001b[1m0s\u001b[0m 130ms/step\n",
      "Scaled prediction: 0.74113655\n"
     ]
    }
   ],
   "source": [
    "scaled_prediction = model.predict(X_pred)[-1][0]  # get last prediction\n",
    "print(\"Scaled prediction:\", scaled_prediction)\n"
   ]
  },
  {
   "cell_type": "code",
   "execution_count": 11,
   "metadata": {},
   "outputs": [
    {
     "name": "stdout",
     "output_type": "stream",
     "text": [
      "📈 Predicted Close Price: ₹3633.01\n"
     ]
    }
   ],
   "source": [
    "import pandas as pd\n",
    "\n",
    "# Copy the last row and insert predicted scaled Close\n",
    "dummy_row = df_scaled.iloc[[-1]].copy()\n",
    "dummy_row[\"Close\"] = scaled_prediction  # replace only the Close value\n",
    "\n",
    "# Inverse transform\n",
    "inv_row = scaler.inverse_transform(dummy_row)\n",
    "\n",
    "# Get predicted price using original index from df_ind\n",
    "predicted_price = inv_row[0][df_ind.columns.get_loc(\"Close\")]\n",
    "\n",
    "print(f\"📈 Predicted Close Price: ₹{predicted_price:.2f}\")\n"
   ]
  },
  {
   "cell_type": "code",
   "execution_count": 12,
   "metadata": {},
   "outputs": [
    {
     "name": "stdout",
     "output_type": "stream",
     "text": [
      "\u001b[1m11/11\u001b[0m \u001b[32m━━━━━━━━━━━━━━━━━━━━\u001b[0m\u001b[37m\u001b[0m \u001b[1m0s\u001b[0m 3ms/step  \n",
      "📊 MAE: ₹73.30\n",
      "📉 RMSE: ₹93.69\n",
      "📈 R² Score: 0.8910\n"
     ]
    }
   ],
   "source": [
    "from sklearn.metrics import mean_absolute_error, mean_squared_error, r2_score\n",
    "import numpy as np\n",
    "\n",
    "# Make predictions on validation set\n",
    "y_val_pred = model.predict(X_val).flatten()\n",
    "\n",
    "# Inverse scale both y_val and y_val_pred\n",
    "# We rebuild dummy DataFrames to inverse-transform\n",
    "def inverse_scale_y(y_scaled, original_df, col_name=\"Close\"):\n",
    "    dummy_df = original_df.iloc[:len(y_scaled)].copy()\n",
    "    dummy_df[col_name] = y_scaled\n",
    "    inv = scaler.inverse_transform(dummy_df)\n",
    "    return inv[:, original_df.columns.get_loc(col_name)]\n",
    "\n",
    "y_val_true = inverse_scale_y(y_val, df_ind)\n",
    "y_val_pred_actual = inverse_scale_y(y_val_pred, df_ind)\n",
    "\n",
    "# Evaluate\n",
    "mae = mean_absolute_error(y_val_true, y_val_pred_actual)\n",
    "rmse = np.sqrt(mean_squared_error(y_val_true, y_val_pred_actual))\n",
    "r2 = r2_score(y_val_true, y_val_pred_actual)\n",
    "\n",
    "print(f\"📊 MAE: ₹{mae:.2f}\")\n",
    "print(f\"📉 RMSE: ₹{rmse:.2f}\")\n",
    "print(f\"📈 R² Score: {r2:.4f}\")\n"
   ]
  },
  {
   "cell_type": "code",
   "execution_count": null,
   "metadata": {},
   "outputs": [],
   "source": []
  }
 ],
 "metadata": {
  "kernelspec": {
   "display_name": "Python (venv)",
   "language": "python",
   "name": "venv"
  },
  "language_info": {
   "codemirror_mode": {
    "name": "ipython",
    "version": 3
   },
   "file_extension": ".py",
   "mimetype": "text/x-python",
   "name": "python",
   "nbconvert_exporter": "python",
   "pygments_lexer": "ipython3",
   "version": "3.10.16"
  },
  "orig_nbformat": 4
 },
 "nbformat": 4,
 "nbformat_minor": 2
}
